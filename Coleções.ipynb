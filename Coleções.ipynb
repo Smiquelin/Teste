{
  "nbformat": 4,
  "nbformat_minor": 0,
  "metadata": {
    "colab": {
      "provenance": [],
      "include_colab_link": true
    },
    "kernelspec": {
      "name": "python3",
      "display_name": "Python 3"
    }
  },
  "cells": [
    {
      "cell_type": "markdown",
      "metadata": {
        "id": "view-in-github",
        "colab_type": "text"
      },
      "source": [
        "<a href=\"https://colab.research.google.com/github/Smiquelin/Teste/blob/master/Cole%C3%A7%C3%B5es.ipynb\" target=\"_parent\"><img src=\"https://colab.research.google.com/assets/colab-badge.svg\" alt=\"Open In Colab\"/></a>"
      ]
    },
    {
      "cell_type": "markdown",
      "metadata": {
        "id": "--0h-g8oKeoy"
      },
      "source": [
        "# Coleções"
      ]
    },
    {
      "cell_type": "markdown",
      "metadata": {
        "id": "SeYvjhqqKg_c"
      },
      "source": [
        "## Tuplas"
      ]
    },
    {
      "cell_type": "code",
      "metadata": {
        "id": "3-eVcVkon0cf"
      },
      "source": [
        "tupla = ('Homo sapiens', 'Canis familiaris', 'Felis catus')"
      ],
      "execution_count": 1,
      "outputs": []
    },
    {
      "cell_type": "code",
      "metadata": {
        "id": "MFQxX8UeoCM8",
        "colab": {
          "base_uri": "https://localhost:8080/"
        },
        "outputId": "03b90348-403e-42f0-dbd3-bba27f24a6ae"
      },
      "source": [
        "tupla"
      ],
      "execution_count": 2,
      "outputs": [
        {
          "output_type": "execute_result",
          "data": {
            "text/plain": [
              "('Homo sapiens', 'Canis familiaris', 'Felis catus')"
            ]
          },
          "metadata": {},
          "execution_count": 2
        }
      ]
    },
    {
      "cell_type": "code",
      "metadata": {
        "id": "EzVM_YO-oD4b",
        "colab": {
          "base_uri": "https://localhost:8080/",
          "height": 35
        },
        "outputId": "69bd93d8-2de8-4c6c-f3c7-c024ace7d397"
      },
      "source": [
        "tupla[0]"
      ],
      "execution_count": 3,
      "outputs": [
        {
          "output_type": "execute_result",
          "data": {
            "text/plain": [
              "'Homo sapiens'"
            ],
            "application/vnd.google.colaboratory.intrinsic+json": {
              "type": "string"
            }
          },
          "metadata": {},
          "execution_count": 3
        }
      ]
    },
    {
      "cell_type": "code",
      "metadata": {
        "id": "Ppce8AdNoTK4",
        "colab": {
          "base_uri": "https://localhost:8080/"
        },
        "outputId": "3fe0e1d5-778e-47d2-e4d1-54435a831b7b"
      },
      "source": [
        "tupla.index('Canis familiaris')"
      ],
      "execution_count": 4,
      "outputs": [
        {
          "output_type": "execute_result",
          "data": {
            "text/plain": [
              "1"
            ]
          },
          "metadata": {},
          "execution_count": 4
        }
      ]
    },
    {
      "cell_type": "code",
      "metadata": {
        "id": "6d9gkoZyoZ-P",
        "colab": {
          "base_uri": "https://localhost:8080/"
        },
        "outputId": "d3f07659-4702-415c-a5e2-e144f0923731"
      },
      "source": [
        "for elemento in tupla:\n",
        "  print(elemento)"
      ],
      "execution_count": 5,
      "outputs": [
        {
          "output_type": "stream",
          "name": "stdout",
          "text": [
            "Homo sapiens\n",
            "Canis familiaris\n",
            "Felis catus\n"
          ]
        }
      ]
    },
    {
      "cell_type": "markdown",
      "metadata": {
        "id": "N7zPJp9PK5lw"
      },
      "source": [
        "## Listas"
      ]
    },
    {
      "cell_type": "code",
      "metadata": {
        "id": "5ytZczB2ommH"
      },
      "source": [
        "l1 = ['Homo sapiens', 'Canis familiaris', 'Felis catus']\n",
        "l2 = ['Xenopus laevis', 'Ailuropoda melanoleuca']"
      ],
      "execution_count": 6,
      "outputs": []
    },
    {
      "cell_type": "code",
      "metadata": {
        "id": "19OHKWNIo2jN",
        "colab": {
          "base_uri": "https://localhost:8080/"
        },
        "outputId": "bc56d1f6-305e-48ce-d16f-c8ce7e7da562"
      },
      "source": [
        "l3 = l1 + l2\n",
        "print(l3)"
      ],
      "execution_count": 7,
      "outputs": [
        {
          "output_type": "stream",
          "name": "stdout",
          "text": [
            "['Homo sapiens', 'Canis familiaris', 'Felis catus', 'Xenopus laevis', 'Ailuropoda melanoleuca']\n"
          ]
        }
      ]
    },
    {
      "cell_type": "code",
      "metadata": {
        "id": "v4WmPWV6o-hz",
        "colab": {
          "base_uri": "https://localhost:8080/"
        },
        "outputId": "f02e49b3-314d-4cb3-867e-545b40eaf457"
      },
      "source": [
        "l2"
      ],
      "execution_count": 8,
      "outputs": [
        {
          "output_type": "execute_result",
          "data": {
            "text/plain": [
              "['Xenopus laevis', 'Ailuropoda melanoleuca']"
            ]
          },
          "metadata": {},
          "execution_count": 8
        }
      ]
    },
    {
      "cell_type": "code",
      "metadata": {
        "id": "SZR7YfLgpAua",
        "colab": {
          "base_uri": "https://localhost:8080/"
        },
        "outputId": "aeab7952-fb2b-43b0-e062-2613f2a25460"
      },
      "source": [
        "l2_2 = l2 * 2\n",
        "print(l2_2)"
      ],
      "execution_count": 9,
      "outputs": [
        {
          "output_type": "stream",
          "name": "stdout",
          "text": [
            "['Xenopus laevis', 'Ailuropoda melanoleuca', 'Xenopus laevis', 'Ailuropoda melanoleuca']\n"
          ]
        }
      ]
    },
    {
      "cell_type": "code",
      "metadata": {
        "id": "QZtjvcbQpNm3",
        "colab": {
          "base_uri": "https://localhost:8080/",
          "height": 35
        },
        "outputId": "d2e1a406-9be7-4d2e-95d5-2537cd306217"
      },
      "source": [
        "l1[0]"
      ],
      "execution_count": 10,
      "outputs": [
        {
          "output_type": "execute_result",
          "data": {
            "text/plain": [
              "'Homo sapiens'"
            ],
            "application/vnd.google.colaboratory.intrinsic+json": {
              "type": "string"
            }
          },
          "metadata": {},
          "execution_count": 10
        }
      ]
    },
    {
      "cell_type": "code",
      "metadata": {
        "id": "0lx0MiBmpQYQ",
        "colab": {
          "base_uri": "https://localhost:8080/"
        },
        "outputId": "9d4f2aed-1777-4566-f945-3ffb056c1956"
      },
      "source": [
        "l1"
      ],
      "execution_count": 11,
      "outputs": [
        {
          "output_type": "execute_result",
          "data": {
            "text/plain": [
              "['Homo sapiens', 'Canis familiaris', 'Felis catus']"
            ]
          },
          "metadata": {},
          "execution_count": 11
        }
      ]
    },
    {
      "cell_type": "code",
      "metadata": {
        "id": "IyfdEzispSFx",
        "colab": {
          "base_uri": "https://localhost:8080/"
        },
        "outputId": "70b88536-2eb5-49a3-cf2f-b310ea673a3c"
      },
      "source": [
        "l1[0:2]"
      ],
      "execution_count": 12,
      "outputs": [
        {
          "output_type": "execute_result",
          "data": {
            "text/plain": [
              "['Homo sapiens', 'Canis familiaris']"
            ]
          },
          "metadata": {},
          "execution_count": 12
        }
      ]
    },
    {
      "cell_type": "code",
      "metadata": {
        "id": "3WUtBPinpaet",
        "colab": {
          "base_uri": "https://localhost:8080/"
        },
        "outputId": "50b67e86-d407-4156-efaf-d8f1c3e0b486"
      },
      "source": [
        "l1.append('Gorila gorila')\n",
        "print(l1)"
      ],
      "execution_count": 13,
      "outputs": [
        {
          "output_type": "stream",
          "name": "stdout",
          "text": [
            "['Homo sapiens', 'Canis familiaris', 'Felis catus', 'Gorila gorila']\n"
          ]
        }
      ]
    },
    {
      "cell_type": "code",
      "metadata": {
        "id": "6ogEdtAupg8U",
        "colab": {
          "base_uri": "https://localhost:8080/"
        },
        "outputId": "6d13e782-25ae-44e8-ecb0-584b282f86db"
      },
      "source": [
        "l1.remove('Felis catus')\n",
        "print(l1)"
      ],
      "execution_count": 14,
      "outputs": [
        {
          "output_type": "stream",
          "name": "stdout",
          "text": [
            "['Homo sapiens', 'Canis familiaris', 'Gorila gorila']\n"
          ]
        }
      ]
    },
    {
      "cell_type": "code",
      "metadata": {
        "id": "CaO3BVMzpoi9"
      },
      "source": [
        "del(l1)"
      ],
      "execution_count": 15,
      "outputs": []
    },
    {
      "cell_type": "code",
      "metadata": {
        "id": "aCi7FLacpqzS",
        "colab": {
          "base_uri": "https://localhost:8080/",
          "height": 141
        },
        "outputId": "3326c3b8-7d61-4b47-a8fb-4f49d18e1130"
      },
      "source": [
        "print(l1)"
      ],
      "execution_count": 18,
      "outputs": [
        {
          "output_type": "error",
          "ename": "NameError",
          "evalue": "name 'l1' is not defined",
          "traceback": [
            "\u001b[0;31m---------------------------------------------------------------------------\u001b[0m",
            "\u001b[0;31mNameError\u001b[0m                                 Traceback (most recent call last)",
            "\u001b[0;32m<ipython-input-18-9957399d2fc4>\u001b[0m in \u001b[0;36m<cell line: 0>\u001b[0;34m()\u001b[0m\n\u001b[0;32m----> 1\u001b[0;31m \u001b[0mprint\u001b[0m\u001b[0;34m(\u001b[0m\u001b[0ml1\u001b[0m\u001b[0;34m)\u001b[0m\u001b[0;34m\u001b[0m\u001b[0;34m\u001b[0m\u001b[0m\n\u001b[0m",
            "\u001b[0;31mNameError\u001b[0m: name 'l1' is not defined"
          ]
        }
      ]
    },
    {
      "cell_type": "code",
      "metadata": {
        "id": "6GqeZMgVpt3A",
        "colab": {
          "base_uri": "https://localhost:8080/"
        },
        "outputId": "807d3e4b-fc25-4258-8353-8273f1715c3e"
      },
      "source": [
        "for item in l2_2:\n",
        "  print(item)"
      ],
      "execution_count": 19,
      "outputs": [
        {
          "output_type": "stream",
          "name": "stdout",
          "text": [
            "Xenopus laevis\n",
            "Ailuropoda melanoleuca\n",
            "Xenopus laevis\n",
            "Ailuropoda melanoleuca\n"
          ]
        }
      ]
    },
    {
      "cell_type": "markdown",
      "metadata": {
        "id": "Spv86wNVLwTr"
      },
      "source": [
        "## Dicionários"
      ]
    },
    {
      "cell_type": "code",
      "metadata": {
        "id": "Q4A9zcJQqOLl"
      },
      "source": [
        "coleta = {'Aedes aegypt': 32, 'Aedes albopictus': 22, 'Anopheles darlingi': 14}"
      ],
      "execution_count": 20,
      "outputs": []
    },
    {
      "cell_type": "code",
      "metadata": {
        "id": "H0TG_BU-qqYB",
        "colab": {
          "base_uri": "https://localhost:8080/"
        },
        "outputId": "f3a3b231-722f-44bd-a0a2-c7ec2b4b8a03"
      },
      "source": [
        "coleta['Aedes aegypt']"
      ],
      "execution_count": 21,
      "outputs": [
        {
          "output_type": "execute_result",
          "data": {
            "text/plain": [
              "32"
            ]
          },
          "metadata": {},
          "execution_count": 21
        }
      ]
    },
    {
      "cell_type": "code",
      "metadata": {
        "id": "G0Ik3zllq03-"
      },
      "source": [
        "coleta['Rhodnius montenegrensis'] = 11"
      ],
      "execution_count": null,
      "outputs": []
    },
    {
      "cell_type": "code",
      "metadata": {
        "id": "LShnTPgOrBIP"
      },
      "source": [
        "print(coleta)"
      ],
      "execution_count": null,
      "outputs": []
    },
    {
      "cell_type": "code",
      "metadata": {
        "id": "3zyhSKk4rFxe"
      },
      "source": [
        "del(coleta)['Aedes albopictus']\n",
        "print(coleta)"
      ],
      "execution_count": null,
      "outputs": []
    },
    {
      "cell_type": "code",
      "metadata": {
        "id": "aQf7FunQrPBl"
      },
      "source": [
        "coleta.items()"
      ],
      "execution_count": null,
      "outputs": []
    },
    {
      "cell_type": "code",
      "metadata": {
        "id": "rBbmf65jrVf6"
      },
      "source": [
        "coleta.keys()"
      ],
      "execution_count": null,
      "outputs": []
    },
    {
      "cell_type": "code",
      "metadata": {
        "id": "49PWs_oJrbHg"
      },
      "source": [
        "coleta.values()"
      ],
      "execution_count": null,
      "outputs": []
    },
    {
      "cell_type": "code",
      "metadata": {
        "id": "1XQe0WHGrgoC"
      },
      "source": [
        "coleta2 = {'Anopheles gambiae': 13, 'Anopheles deaneorum': 14}\n",
        "print(coleta2)"
      ],
      "execution_count": null,
      "outputs": []
    },
    {
      "cell_type": "code",
      "metadata": {
        "id": "ZH7Mfel7ruCP"
      },
      "source": [
        "coleta.update(coleta2)\n",
        "print(coleta)"
      ],
      "execution_count": null,
      "outputs": []
    },
    {
      "cell_type": "code",
      "metadata": {
        "id": "oeJdD_--r1sc"
      },
      "source": [
        "coleta.items()"
      ],
      "execution_count": null,
      "outputs": []
    },
    {
      "cell_type": "code",
      "metadata": {
        "id": "JheAqSC7r5YB"
      },
      "source": [
        "for especie, num_especimes in coleta.items():\n",
        "  print(f'Espécie: {especie}, número de espécimes coletados: {num_especimes}')"
      ],
      "execution_count": null,
      "outputs": []
    },
    {
      "cell_type": "markdown",
      "metadata": {
        "id": "u-3CMPGCMN_C"
      },
      "source": [
        "## Conjuntos (set)"
      ]
    },
    {
      "cell_type": "code",
      "metadata": {
        "id": "-g-6mwxHsW2L"
      },
      "source": [
        "biomeleculas = ('proteína', 'ácidos nucleicos', 'carboidrato', 'lipídeo',\n",
        "                'ácidos nucleicos', 'carboidrato', 'carboidrato', 'carboidrato')"
      ],
      "execution_count": null,
      "outputs": []
    },
    {
      "cell_type": "code",
      "metadata": {
        "id": "GawdhDILsuDp"
      },
      "source": [
        "print(biomeleculas)"
      ],
      "execution_count": null,
      "outputs": []
    },
    {
      "cell_type": "code",
      "metadata": {
        "id": "wU8POR0WsxEK"
      },
      "source": [
        "print(set(biomeleculas))"
      ],
      "execution_count": null,
      "outputs": []
    },
    {
      "cell_type": "code",
      "metadata": {
        "id": "ap6l5QldtB1l"
      },
      "source": [
        "c1 = {1,2,3,4,5}\n",
        "c2 = {3,4,5,6,7}\n",
        "c3 = c1.intersection(c2)"
      ],
      "execution_count": null,
      "outputs": []
    },
    {
      "cell_type": "code",
      "metadata": {
        "id": "JT7ip_ZntTHv"
      },
      "source": [
        "print(c3)"
      ],
      "execution_count": null,
      "outputs": []
    },
    {
      "cell_type": "code",
      "metadata": {
        "id": "eOycG2G9tdR9"
      },
      "source": [
        "c1.difference(c2)"
      ],
      "execution_count": null,
      "outputs": []
    },
    {
      "cell_type": "code",
      "metadata": {
        "id": "inpYEBhHtl51"
      },
      "source": [
        "c2.difference(c1)"
      ],
      "execution_count": null,
      "outputs": []
    }
  ]
}