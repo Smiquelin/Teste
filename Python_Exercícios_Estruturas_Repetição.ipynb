{
  "nbformat": 4,
  "nbformat_minor": 0,
  "metadata": {
    "colab": {
      "provenance": [],
      "include_colab_link": true
    },
    "kernelspec": {
      "name": "python3",
      "display_name": "Python 3"
    }
  },
  "cells": [
    {
      "cell_type": "markdown",
      "metadata": {
        "id": "view-in-github",
        "colab_type": "text"
      },
      "source": [
        "<a href=\"https://colab.research.google.com/github/Smiquelin/Teste/blob/master/Python_Exerc%C3%ADcios_Estruturas_Repeti%C3%A7%C3%A3o.ipynb\" target=\"_parent\"><img src=\"https://colab.research.google.com/assets/colab-badge.svg\" alt=\"Open In Colab\"/></a>"
      ]
    },
    {
      "cell_type": "markdown",
      "metadata": {
        "id": "c9BudZ2gNE2n"
      },
      "source": [
        "# Exercício 1\n",
        "\n",
        "Ler 5 notas e informar a média\n"
      ]
    },
    {
      "cell_type": "markdown",
      "metadata": {
        "id": "RFJ-2UWJSviN"
      },
      "source": [
        "## For"
      ]
    },
    {
      "cell_type": "code",
      "metadata": {
        "id": "SVlPSs0oS1XU"
      },
      "source": [
        "nota = media = soma = 0"
      ],
      "execution_count": 3,
      "outputs": []
    },
    {
      "cell_type": "code",
      "metadata": {
        "id": "H77cGoceod5M",
        "colab": {
          "base_uri": "https://localhost:8080/"
        },
        "outputId": "e77af45e-efae-42c5-bd83-7bebfce9afdc"
      },
      "source": [
        "print(nota, media, soma)"
      ],
      "execution_count": 4,
      "outputs": [
        {
          "output_type": "stream",
          "name": "stdout",
          "text": [
            "0 0 0\n"
          ]
        }
      ]
    },
    {
      "cell_type": "code",
      "metadata": {
        "id": "y69_FUgZTFAa",
        "colab": {
          "base_uri": "https://localhost:8080/"
        },
        "outputId": "9a31c502-735e-4a8d-82ac-700f807f6b14"
      },
      "source": [
        "for _ in range(1, 6):\n",
        "  nota = float(input('Digite a nota '))\n",
        "  soma += nota"
      ],
      "execution_count": 5,
      "outputs": [
        {
          "name": "stdout",
          "output_type": "stream",
          "text": [
            "Digite a nota 6\n",
            "Digite a nota 5\n",
            "Digite a nota 6\n",
            "Digite a nota 5\n",
            "Digite a nota 5\n"
          ]
        }
      ]
    },
    {
      "cell_type": "code",
      "metadata": {
        "id": "PcZJcwYxbUmG",
        "colab": {
          "base_uri": "https://localhost:8080/",
          "height": 34
        },
        "outputId": "cb0df112-e562-46a0-8cb9-75711d48f206"
      },
      "source": [
        "print(soma)"
      ],
      "execution_count": null,
      "outputs": [
        {
          "output_type": "stream",
          "text": [
            "38.0\n"
          ],
          "name": "stdout"
        }
      ]
    },
    {
      "cell_type": "code",
      "metadata": {
        "id": "EfSe5EF6bYCA",
        "colab": {
          "base_uri": "https://localhost:8080/"
        },
        "outputId": "e52cf486-4256-47a6-f387-c72add9c3860"
      },
      "source": [
        "media = soma / 5\n",
        "print('A média é ', media)"
      ],
      "execution_count": 6,
      "outputs": [
        {
          "output_type": "stream",
          "name": "stdout",
          "text": [
            "A média é  5.4\n"
          ]
        }
      ]
    },
    {
      "cell_type": "markdown",
      "metadata": {
        "id": "-44bufKRbeBf"
      },
      "source": [
        "## While"
      ]
    },
    {
      "cell_type": "code",
      "metadata": {
        "id": "5O23ONtfbf9w"
      },
      "source": [
        "nota = soma = 0\n",
        "numero = 1\n",
        "while numero <= 5:\n",
        "  nota = float(input('Digite a nota:'))\n",
        "  soma += nota\n",
        "  numero += 1\n",
        "print('A média é ', soma / 5)"
      ],
      "execution_count": null,
      "outputs": []
    },
    {
      "cell_type": "markdown",
      "metadata": {
        "id": "QK3YAlgdN0t3"
      },
      "source": [
        "# Exercício 2\n",
        "\n",
        "Imprimir a tabuada do número 3 (3 x 1 = 1 - 3 x 10 = 30)\n"
      ]
    },
    {
      "cell_type": "markdown",
      "metadata": {
        "id": "DgR_HhoqcKlH"
      },
      "source": [
        "## For"
      ]
    },
    {
      "cell_type": "code",
      "metadata": {
        "id": "17IiwQLVcKM1",
        "colab": {
          "base_uri": "https://localhost:8080/",
          "height": 185
        },
        "outputId": "7c2b6ec8-1bb2-4b5a-c0e0-002c0c7d2130"
      },
      "source": [
        "for i in range(1, 11):\n",
        "  print('3 x {} = {}'.format(i, 3 * i))"
      ],
      "execution_count": null,
      "outputs": [
        {
          "output_type": "stream",
          "text": [
            "3 x 1 = 3\n",
            "3 x 2 = 6\n",
            "3 x 3 = 9\n",
            "3 x 4 = 12\n",
            "3 x 5 = 15\n",
            "3 x 6 = 18\n",
            "3 x 7 = 21\n",
            "3 x 8 = 24\n",
            "3 x 9 = 27\n",
            "3 x 10 = 30\n"
          ],
          "name": "stdout"
        }
      ]
    },
    {
      "cell_type": "markdown",
      "metadata": {
        "id": "7HRSb00ycuip"
      },
      "source": [
        "## While"
      ]
    },
    {
      "cell_type": "code",
      "metadata": {
        "id": "rR51zPtEcuKg",
        "colab": {
          "base_uri": "https://localhost:8080/",
          "height": 185
        },
        "outputId": "b05cb38c-a391-4327-d976-a5a769945559"
      },
      "source": [
        "numero = 1\n",
        "while numero <= 10:\n",
        "  print('3 x {} = {}'.format(numero, 3 * numero))\n",
        "  numero += 1"
      ],
      "execution_count": null,
      "outputs": [
        {
          "output_type": "stream",
          "text": [
            "3 x 1 = 3\n",
            "3 x 2 = 6\n",
            "3 x 3 = 9\n",
            "3 x 4 = 12\n",
            "3 x 5 = 15\n",
            "3 x 6 = 18\n",
            "3 x 7 = 21\n",
            "3 x 8 = 24\n",
            "3 x 9 = 27\n",
            "3 x 10 = 30\n"
          ],
          "name": "stdout"
        }
      ]
    }
  ]
}